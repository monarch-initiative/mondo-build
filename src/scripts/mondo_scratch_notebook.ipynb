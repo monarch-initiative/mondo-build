{
 "cells": [
  {
   "cell_type": "code",
   "execution_count": null,
   "metadata": {},
   "outputs": [],
   "source": [
    "import pandas as pd\n",
    "xrefs_file=\"../ontology/xref-all.tsv\"\n",
    "obsoletes_file=\"../ontology/obsoletes_ordo.tsv\"\n",
    "df_xrefs=pd.read_csv(xrefs_file,sep=\"\\t\")\n",
    "df_ordo=pd.read_csv(obsoletes_file,sep=\"\\t\")\n",
    "df_ordo['deprecated']=True\n",
    "df_ordo.head()"
   ]
  },
  {
   "cell_type": "code",
   "execution_count": null,
   "metadata": {},
   "outputs": [],
   "source": [
    "df_xrefs[~df_xrefs['?deprecated'].isna()].head()"
   ]
  },
  {
   "cell_type": "code",
   "execution_count": null,
   "metadata": {},
   "outputs": [],
   "source": [
    "df_xrefs_ordo=df_xrefs[(df_xrefs['?prefix']==\"Orphanet\")]\n",
    "df_xrefs_ordo = df_xrefs_ordo.merge(df_ordo[['?curie','deprecated']], left_on=['?xref'], right_on=['?curie'])\n",
    "print(len(df_xrefs_ordo))\n",
    "df_xrefs_ordo.head()"
   ]
  },
  {
   "cell_type": "code",
   "execution_count": null,
   "metadata": {},
   "outputs": [],
   "source": [
    "df_xrefs_ordo.to_csv(\"../ontology/ordo_deprecated.tsv\", sep=\"\\t\")"
   ]
  },
  {
   "cell_type": "markdown",
   "metadata": {},
   "source": [
    "# SSSOM Files"
   ]
  },
  {
   "cell_type": "code",
   "execution_count": null,
   "metadata": {},
   "outputs": [],
   "source": [
    "import pandas as pd\n",
    "from pathlib import Path\n",
    "from argparse import ArgumentParser\n",
    "\n",
    "def get_dataframe(tsv):\n",
    "    try:\n",
    "        df = pd.read_csv(tsv,sep=\"\\t\", comment=\"#\")\n",
    "        df[\"source\"]=Path(tsv).stem\n",
    "        return df\n",
    "    except pd.errors.EmptyDataError:\n",
    "        print(\"WARNING! \", tsv, \" is empty and has been skipped.\")\n",
    "\n",
    "sssom_tsv_path = \"/Users/matentzn/ws/mondo/src/ontology/mappings/ordo-omim.sssom.tsv\"\n",
    "df = get_dataframe(sssom_tsv_path)\n",
    "\n",
    "sssom_files = {}\n",
    "\n",
    "for index, row in df.iterrows():\n",
    "    object_id = row[\"object_id\"]\n",
    "    prefix = object_id.split(\":\")[0]\n",
    "    if prefix not in sssom_files:\n",
    "        sssom_files[prefix] = []\n",
    "    sssom_files[prefix].append(row)\n",
    "\n",
    "for prefix in sssom_files:\n",
    "    if\n",
    "    print(prefix)\n",
    "\n",
    "print(df.head())\n"
   ]
  },
  {
   "cell_type": "code",
   "execution_count": null,
   "metadata": {},
   "outputs": [],
   "source": [
    "ps = \"https://omim.org/phenotypicSeriesTitles/all?format=tsv\"\n",
    "mim2gene = \"https://omim.org/static/omim/data/mim2gene.txt\"\n",
    "mimTitles = \"https://data.omim.org/downloads/Wi95pIjsRfqt4ioi9rEJNQ/mimTitles.txt\"\n",
    "genemap2 = \"https://data.omim.org/downloads/Wi95pIjsRfqt4ioi9rEJNQ/genemap2.txt\"\n",
    "morbidmap = \"https://data.omim.org/downloads/Wi95pIjsRfqt4ioi9rEJNQ/morbidmap.txt\""
   ]
  },
  {
   "cell_type": "code",
   "execution_count": null,
   "metadata": {},
   "outputs": [],
   "source": [
    "import pandas as pd\n",
    "df_ps = pd.read_csv(ps,sep=\"\\t\")"
   ]
  },
  {
   "cell_type": "code",
   "execution_count": null,
   "metadata": {},
   "outputs": [],
   "source": [
    "df_ps.head()"
   ]
  },
  {
   "cell_type": "code",
   "execution_count": null,
   "metadata": {},
   "outputs": [],
   "source": []
  },
  {
   "cell_type": "code",
   "execution_count": null,
   "metadata": {},
   "outputs": [],
   "source": [
    "import pandas as pd\n",
    "import yaml\n",
    "from datetime import datetime\n",
    "\n",
    "import os\n",
    "from sssom.datamodel_util import read_pandas, read_metadata\n",
    "mapping_dir=\"../ontology/mappings/\"\n",
    "sssom_file=os.path.join(mapping_dir,\"mondo.sssom.tsv\")\n",
    "metadata_file=os.path.join(mapping_dir,\"mondo.sssom.yml\")\n",
    "\n",
    "meta, curie_map=read_metadata(metadata_file)\n",
    "meta[\"mapping_date\"]=datetime.now().strftime(\"%Y-%m-%d\")\n",
    "df=read_pandas(sssom_file)\n",
    "df[\"match_type\"]=\"HumanCurated\"\n",
    "df.head()"
   ]
  },
  {
   "cell_type": "code",
   "execution_count": null,
   "metadata": {},
   "outputs": [],
   "source": [
    "curie_map"
   ]
  },
  {
   "cell_type": "code",
   "execution_count": null,
   "metadata": {},
   "outputs": [],
   "source": [
    "subject_prefixes=set(df['subject_id'].str.split(':', 1, expand=True)[0])\n",
    "object_prefixes=set(df['object_id'].str.split(':', 1, expand=True)[0])\n",
    "#object_prefixes.remove(\"MONDO\")\n",
    "relations=set(df['predicate_id'])"
   ]
  },
  {
   "cell_type": "code",
   "execution_count": null,
   "metadata": {},
   "outputs": [],
   "source": []
  },
  {
   "cell_type": "code",
   "execution_count": null,
   "metadata": {},
   "outputs": [],
   "source": [
    "relations"
   ]
  },
  {
   "cell_type": "code",
   "execution_count": null,
   "metadata": {},
   "outputs": [],
   "source": [
    "from sssom.parsers import from_dataframe\n",
    "from sssom.writers import write_tsv\n",
    "import re\n",
    "import logging\n",
    "\n",
    "def reconcile_curie(pre_orig):\n",
    "    if re.match(r\".*__[0-9]$\", pre_orig):\n",
    "        print(f\"{pre_orig} non standard prefix, reconciling\")\n",
    "        pre = pre_orig[:-3]\n",
    "    else:\n",
    "        pre = pre_orig\n",
    "    return pre\n",
    "\n",
    "\n",
    "def replace_temporary_prefixes(prefixes, df):\n",
    "    for pre_orig in prefixes:\n",
    "        pre = reconcile_curie(pre_orig)\n",
    "        if pre!=pre_orig:\n",
    "            print(f\"Replacing temporary curie {pre_orig} with {pre}\")\n",
    "            logging.warning(f\"Replacing temporary curie {pre_orig} with {pre}\")\n",
    "            df['object_id'] = df['object_id'].str.replace(pre_orig+\":\",pre+\":\")\n",
    "            df['subject_id'] = df['subject_id'].str.replace(pre_orig+\":\",pre+\":\")\n",
    "    return df\n",
    "\n",
    "df = replace_temporary_prefixes(subject_prefixes, df)\n",
    "df = replace_temporary_prefixes(object_prefixes, df)\n",
    "\n",
    "for pre_subj in subject_prefixes:\n",
    "    for pre_obj in object_prefixes:\n",
    "        for rel in relations:\n",
    "            relpre=rel.split(\":\")[0]\n",
    "            relppost=rel.split(\":\")[1]\n",
    "            sssom_file=os.path.join(mapping_dir,f\"{pre_subj.lower()}_{relppost.lower()}_{pre_obj.lower()}.sssom.tsv\")\n",
    "    \n",
    "            dfs=df[(df['subject_id'].str.startswith(pre_sub+\":\")) \n",
    "                   & (df['predicate_id'] == rel) \n",
    "                   & (df['object_id'].str.startswith(pre_obj+\":\"))]\n",
    "            if pre_subj in curie_map and pre_obj in curie_map and len(dfs)>0:\n",
    "                cm = {pre_sub: curie_map[pre_sub], pre_obj: curie_map[pre_obj], relpre: curie_map[relpre]}\n",
    "                msdf=from_dataframe(dfs,curie_map=cm,meta=meta)\n",
    "                write_tsv(msdf=msdf,filename=sssom_file)\n",
    "                print(f\"Writing {sssom_file} complete!\")\n",
    "            else:\n",
    "                print(f\"Not creating {sssom_file} because there is a missing prefix ({pre_subj}, {pre_obj}), or no matches ({len(dfs)} matches found)\")\n",
    "    \n"
   ]
  },
  {
   "cell_type": "code",
   "execution_count": null,
   "metadata": {},
   "outputs": [],
   "source": []
  },
  {
   "cell_type": "code",
   "execution_count": null,
   "metadata": {},
   "outputs": [],
   "source": []
  }
 ],
 "metadata": {
  "kernelspec": {
   "display_name": "Python 3",
   "language": "python",
   "name": "python3"
  },
  "language_info": {
   "codemirror_mode": {
    "name": "ipython",
    "version": 3
   },
   "file_extension": ".py",
   "mimetype": "text/x-python",
   "name": "python",
   "nbconvert_exporter": "python",
   "pygments_lexer": "ipython3",
   "version": "3.8.3"
  }
 },
 "nbformat": 4,
 "nbformat_minor": 4
}
